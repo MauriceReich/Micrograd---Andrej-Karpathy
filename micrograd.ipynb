{
  "nbformat": 4,
  "nbformat_minor": 0,
  "metadata": {
    "colab": {
      "provenance": [],
      "authorship_tag": "ABX9TyOoQeii8hJXp/8PyWcNMjIW",
      "include_colab_link": true
    },
    "kernelspec": {
      "name": "python3",
      "display_name": "Python 3"
    },
    "language_info": {
      "name": "python"
    }
  },
  "cells": [
    {
      "cell_type": "markdown",
      "metadata": {
        "id": "view-in-github",
        "colab_type": "text"
      },
      "source": [
        "<a href=\"https://colab.research.google.com/github/MauriceReich/Micrograd---Andrej-Karpathy/blob/main/micrograd.ipynb\" target=\"_parent\"><img src=\"https://colab.research.google.com/assets/colab-badge.svg\" alt=\"Open In Colab\"/></a>"
      ]
    },
    {
      "cell_type": "code",
      "execution_count": 1,
      "metadata": {
        "id": "oEUawNVlz9pq",
        "colab": {
          "base_uri": "https://localhost:8080/"
        },
        "outputId": "af4042f8-c7bd-40c4-8f4c-9161df2a4a3b"
      },
      "outputs": [
        {
          "output_type": "stream",
          "name": "stdout",
          "text": [
            "moin servus moin\n"
          ]
        }
      ],
      "source": [
        "print(\"moin servus moin\")"
      ]
    },
    {
      "cell_type": "code",
      "source": [],
      "metadata": {
        "id": "5e_Q6M0A2MAc"
      },
      "execution_count": null,
      "outputs": []
    }
  ]
}